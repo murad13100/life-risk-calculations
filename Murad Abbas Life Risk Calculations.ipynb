{
 "cells": [
  {
   "cell_type": "markdown",
   "id": "87efd1e4-0c3b-46d8-9827-1f2cf4c93a6b",
   "metadata": {},
   "source": [
    "# Exercise 1\n",
    "# Calculate the net single premium for a pure endowment insurance with €150,000 sum insured and 35 years contract duration for a 30-year-old man born 1992. Use the interest rates i1 = 0%, i2 = 0.5% and i3 = 2%."
   ]
  },
  {
   "cell_type": "code",
   "execution_count": 1200,
   "id": "818e8606-b8b6-42a0-8e7f-1cfc871fe9ea",
   "metadata": {},
   "outputs": [],
   "source": [
    "import pandas as pd\n",
    "\n",
    "file_path = \"C:\\\\Users\\\\Study\\\\Downloads\\\\AVOe 2005R English.xlsx\"\n",
    "sheet_name = 'Mortality Table Austria'\n",
    "mt = pd.read_excel(file_path, sheet_name=sheet_name, engine='openpyxl', header=0, index_col=0) #mt = mortality table"
   ]
  },
  {
   "cell_type": "code",
   "execution_count": 1202,
   "id": "5c7f3f93-46e1-40d9-8d4a-d63b2c8915de",
   "metadata": {},
   "outputs": [
    {
     "data": {
      "text/html": [
       "<div>\n",
       "<style scoped>\n",
       "    .dataframe tbody tr th:only-of-type {\n",
       "        vertical-align: middle;\n",
       "    }\n",
       "\n",
       "    .dataframe tbody tr th {\n",
       "        vertical-align: top;\n",
       "    }\n",
       "\n",
       "    .dataframe thead th {\n",
       "        text-align: right;\n",
       "    }\n",
       "</style>\n",
       "<table border=\"1\" class=\"dataframe\">\n",
       "  <thead>\n",
       "    <tr style=\"text-align: right;\">\n",
       "      <th></th>\n",
       "      <th>l_u unisex</th>\n",
       "      <th>l_x male</th>\n",
       "      <th>l_y female</th>\n",
       "    </tr>\n",
       "    <tr>\n",
       "      <th>Age</th>\n",
       "      <th></th>\n",
       "      <th></th>\n",
       "      <th></th>\n",
       "    </tr>\n",
       "  </thead>\n",
       "  <tbody>\n",
       "    <tr>\n",
       "      <th>0</th>\n",
       "      <td>100.000</td>\n",
       "      <td>100.000</td>\n",
       "      <td>100.000</td>\n",
       "    </tr>\n",
       "    <tr>\n",
       "      <th>1</th>\n",
       "      <td>99.414</td>\n",
       "      <td>99.261</td>\n",
       "      <td>99.447</td>\n",
       "    </tr>\n",
       "    <tr>\n",
       "      <th>2</th>\n",
       "      <td>99.371</td>\n",
       "      <td>99.216</td>\n",
       "      <td>99.402</td>\n",
       "    </tr>\n",
       "    <tr>\n",
       "      <th>3</th>\n",
       "      <td>99.343</td>\n",
       "      <td>99.183</td>\n",
       "      <td>99.374</td>\n",
       "    </tr>\n",
       "    <tr>\n",
       "      <th>4</th>\n",
       "      <td>99.325</td>\n",
       "      <td>99.160</td>\n",
       "      <td>99.357</td>\n",
       "    </tr>\n",
       "  </tbody>\n",
       "</table>\n",
       "</div>"
      ],
      "text/plain": [
       "     l_u unisex  l_x male  l_y female\n",
       "Age                                  \n",
       "0       100.000   100.000     100.000\n",
       "1        99.414    99.261      99.447\n",
       "2        99.371    99.216      99.402\n",
       "3        99.343    99.183      99.374\n",
       "4        99.325    99.160      99.357"
      ]
     },
     "execution_count": 1202,
     "metadata": {},
     "output_type": "execute_result"
    }
   ],
   "source": [
    "mt.head()"
   ]
  },
  {
   "cell_type": "code",
   "execution_count": 1204,
   "id": "7fd1d7a1-f715-4897-b7f3-991f66a4fafb",
   "metadata": {},
   "outputs": [],
   "source": [
    "def E(x, y):\n",
    "    value1 = mt.iloc[x, 0]\n",
    "    value2 = mt.iloc[x+y, 0]\n",
    "    \n",
    "    return (value2/value1)"
   ]
  },
  {
   "cell_type": "code",
   "execution_count": 1206,
   "id": "3a98be37-2aa3-4d6c-920f-3384eb87f6c6",
   "metadata": {},
   "outputs": [
    {
     "data": {
      "text/plain": [
       "0.9772915865530571"
      ]
     },
     "execution_count": 1206,
     "metadata": {},
     "output_type": "execute_result"
    }
   ],
   "source": [
    "E(30,35)"
   ]
  },
  {
   "cell_type": "code",
   "execution_count": 1208,
   "id": "4ff2b07c-09c7-486d-9707-25f867421609",
   "metadata": {},
   "outputs": [],
   "source": [
    "def SP (amount, r, E, period):\n",
    "    return amount * E * (1+r)**(-period)"
   ]
  },
  {
   "cell_type": "code",
   "execution_count": 1210,
   "id": "f6762f5f-9d74-459c-b73d-17c7c80d606e",
   "metadata": {},
   "outputs": [
    {
     "data": {
      "text/plain": [
       "146593.73798295858"
      ]
     },
     "execution_count": 1210,
     "metadata": {},
     "output_type": "execute_result"
    }
   ],
   "source": [
    "#r=0%\n",
    "SP(amount = 150000, r = 0, E = 0.9772915865530571, period = 35)\n"
   ]
  },
  {
   "cell_type": "code",
   "execution_count": 1212,
   "id": "3eb534c1-8476-4c88-b4dc-3be98ed0fdba",
   "metadata": {},
   "outputs": [
    {
     "data": {
      "text/plain": [
       "123112.8138352659"
      ]
     },
     "execution_count": 1212,
     "metadata": {},
     "output_type": "execute_result"
    }
   ],
   "source": [
    "#r=0.5%\n",
    "SP(150000, 0.5/100, 0.9772915865530571, 35)\n"
   ]
  },
  {
   "cell_type": "code",
   "execution_count": 1214,
   "id": "1163c59e-c12b-4019-bbad-a91a5b83ef54",
   "metadata": {},
   "outputs": [
    {
     "data": {
      "text/plain": [
       "73300.91693703689"
      ]
     },
     "execution_count": 1214,
     "metadata": {},
     "output_type": "execute_result"
    }
   ],
   "source": [
    "#r=2%\n",
    "SP(150000, 2/100, 0.9772915865530571, 35)\n"
   ]
  },
  {
   "cell_type": "markdown",
   "id": "772397dc-b610-4727-8644-a31eb9ad7c4f",
   "metadata": {},
   "source": [
    "# Exercise 2\n",
    "# Calculate the net single premium for a term life insurance for a 35-year-old women born 1985 with a contract period of 25 years and €320,000 sum insured. Use i = 0.5% and i = 4% as interest rates."
   ]
  },
  {
   "cell_type": "code",
   "execution_count": 1219,
   "id": "520fded9-3f27-41ea-a0e8-76f9110d6067",
   "metadata": {},
   "outputs": [
    {
     "data": {
      "text/html": [
       "<div>\n",
       "<style scoped>\n",
       "    .dataframe tbody tr th:only-of-type {\n",
       "        vertical-align: middle;\n",
       "    }\n",
       "\n",
       "    .dataframe tbody tr th {\n",
       "        vertical-align: top;\n",
       "    }\n",
       "\n",
       "    .dataframe thead th {\n",
       "        text-align: right;\n",
       "    }\n",
       "</style>\n",
       "<table border=\"1\" class=\"dataframe\">\n",
       "  <thead>\n",
       "    <tr style=\"text-align: right;\">\n",
       "      <th></th>\n",
       "      <th>Age</th>\n",
       "      <th>q(x)_male</th>\n",
       "      <th>q(y)_female</th>\n",
       "      <th>q(u)_unisex</th>\n",
       "    </tr>\n",
       "    <tr>\n",
       "      <th>Year</th>\n",
       "      <th></th>\n",
       "      <th></th>\n",
       "      <th></th>\n",
       "      <th></th>\n",
       "    </tr>\n",
       "  </thead>\n",
       "  <tbody>\n",
       "    <tr>\n",
       "      <th>1985</th>\n",
       "      <td>0</td>\n",
       "      <td>0.009449</td>\n",
       "      <td>0.007066</td>\n",
       "      <td>0.007490</td>\n",
       "    </tr>\n",
       "    <tr>\n",
       "      <th>1986</th>\n",
       "      <td>1</td>\n",
       "      <td>0.000581</td>\n",
       "      <td>0.000584</td>\n",
       "      <td>0.000559</td>\n",
       "    </tr>\n",
       "    <tr>\n",
       "      <th>1987</th>\n",
       "      <td>2</td>\n",
       "      <td>0.000423</td>\n",
       "      <td>0.000359</td>\n",
       "      <td>0.000364</td>\n",
       "    </tr>\n",
       "    <tr>\n",
       "      <th>1988</th>\n",
       "      <td>3</td>\n",
       "      <td>0.000303</td>\n",
       "      <td>0.000214</td>\n",
       "      <td>0.000232</td>\n",
       "    </tr>\n",
       "    <tr>\n",
       "      <th>1989</th>\n",
       "      <td>4</td>\n",
       "      <td>0.000220</td>\n",
       "      <td>0.000154</td>\n",
       "      <td>0.000167</td>\n",
       "    </tr>\n",
       "  </tbody>\n",
       "</table>\n",
       "</div>"
      ],
      "text/plain": [
       "      Age  q(x)_male  q(y)_female  q(u)_unisex\n",
       "Year                                          \n",
       "1985    0   0.009449     0.007066     0.007490\n",
       "1986    1   0.000581     0.000584     0.000559\n",
       "1987    2   0.000423     0.000359     0.000364\n",
       "1988    3   0.000303     0.000214     0.000232\n",
       "1989    4   0.000220     0.000154     0.000167"
      ]
     },
     "execution_count": 1219,
     "metadata": {},
     "output_type": "execute_result"
    }
   ],
   "source": [
    "file_path = \"C:\\\\Users\\\\Study\\\\Downloads\\\\AVOe 2005R English.xlsx\"\n",
    "sheet_name = 'AVÖ 2005R'\n",
    "\n",
    "data = pd.read_excel(file_path, sheet_name=sheet_name, engine='openpyxl', header=3, index_col=7)\n",
    "\n",
    "data = data[['Age','q(x)','q(y)','q(u)']]\n",
    "data.columns = ['Age','q(x)_male','q(y)_female','q(u)_unisex']\n",
    "\n",
    "data['Age'] = data['Age'].fillna(-1).astype(int)  \n",
    "\n",
    "data.index = pd.to_numeric(data.index, errors='coerce').fillna(-1).astype(int)\n",
    "data.index.name = 'Year'\n",
    "\n",
    "data.head(5)"
   ]
  },
  {
   "cell_type": "code",
   "execution_count": 1015,
   "id": "eb5f0669-097d-4d67-97ba-2c9d068176af",
   "metadata": {},
   "outputs": [],
   "source": [
    "def calculate_NSP_Term_Life(SP, qu, r):\n",
    "    values = data.iloc[qu[0]:qu[0]+qu[1],3].values\n",
    "    denominators = [(1 + r)**(n + 1) for n in range(len(values))]\n",
    "    total= sum(values/denominators)*SP\n",
    "    return total"
   ]
  },
  {
   "cell_type": "code",
   "execution_count": 1017,
   "id": "ae2ac38b-4523-434b-b445-8674774069a9",
   "metadata": {},
   "outputs": [
    {
     "name": "stdout",
     "output_type": "stream",
     "text": [
      "5380.6367526082595\n",
      "3278.3225618556726\n"
     ]
    }
   ],
   "source": [
    "result_1 = calculate_NSP_Term_Life(SP=320000, qu=(35, 25), r=0.5/100)\n",
    "print(result_1)\n",
    "\n",
    "result_2 = calculate_NSP_Term_Life(SP=320000, qu=(35, 25), r=4/100)\n",
    "print(result_2)"
   ]
  },
  {
   "cell_type": "markdown",
   "id": "514661c5-4baf-41ba-96aa-2af0c13b07c8",
   "metadata": {},
   "source": [
    "Using this code you can check result of each calculation step\n",
    "```python\n",
    "def calculate_NSP_Term_Life(SP, qu, r):\n",
    "    values = data.iloc[qu[0]:qu[0]+qu[1],3].values\n",
    "    denominators = [(1 + r)**(n + 1) for n in range(len(values))]\n",
    "    \n",
    "    results = []\n",
    "    for value, denom in zip(values, denominators):\n",
    "        division_result = value / denom\n",
    "        print(f\"value: {value}, denominator: {denom}, division result: {division_result}\")\n",
    "        results.append(division_result)\n",
    "    \n",
    "    total = sum(results)*SP\n",
    "    return total\n",
    "\n",
    "result = calculate_NSP_Term_Life(SP=320000, qu=(35, 25), r=4/100)\n",
    "print(\"Final calculated result:\", result)\n",
    "```\n"
   ]
  },
  {
   "cell_type": "markdown",
   "id": "783bc5d9-87c6-49cf-901b-71c207177d9a",
   "metadata": {},
   "source": [
    "# Question 3\n",
    "# Calculate the net single premium for an endowment insurance for €100,000 for a 25-year-old man with a contract period of 35 years and interest rate i = 1%. Use the following years of birth:\n"
   ]
  },
  {
   "cell_type": "markdown",
   "id": "9c6b6d15-dc18-4f8f-91d5-8222745a0bd3",
   "metadata": {},
   "source": [
    "## a. year of birth 1980\n"
   ]
  },
  {
   "cell_type": "code",
   "execution_count": 1259,
   "id": "4adcce60-064b-4358-92ff-196d49ed31bb",
   "metadata": {},
   "outputs": [
    {
     "data": {
      "text/html": [
       "<div>\n",
       "<style scoped>\n",
       "    .dataframe tbody tr th:only-of-type {\n",
       "        vertical-align: middle;\n",
       "    }\n",
       "\n",
       "    .dataframe tbody tr th {\n",
       "        vertical-align: top;\n",
       "    }\n",
       "\n",
       "    .dataframe thead th {\n",
       "        text-align: right;\n",
       "    }\n",
       "</style>\n",
       "<table border=\"1\" class=\"dataframe\">\n",
       "  <thead>\n",
       "    <tr style=\"text-align: right;\">\n",
       "      <th></th>\n",
       "      <th>Age</th>\n",
       "      <th>q(x)_male</th>\n",
       "      <th>q(y)_female</th>\n",
       "      <th>q(u)_unisex</th>\n",
       "    </tr>\n",
       "    <tr>\n",
       "      <th>Year</th>\n",
       "      <th></th>\n",
       "      <th></th>\n",
       "      <th></th>\n",
       "      <th></th>\n",
       "    </tr>\n",
       "  </thead>\n",
       "  <tbody>\n",
       "    <tr>\n",
       "      <th>1980</th>\n",
       "      <td>0</td>\n",
       "      <td>0.012032</td>\n",
       "      <td>0.008998</td>\n",
       "      <td>0.009538</td>\n",
       "    </tr>\n",
       "    <tr>\n",
       "      <th>1981</th>\n",
       "      <td>1</td>\n",
       "      <td>0.000741</td>\n",
       "      <td>0.000745</td>\n",
       "      <td>0.000713</td>\n",
       "    </tr>\n",
       "    <tr>\n",
       "      <th>1982</th>\n",
       "      <td>2</td>\n",
       "      <td>0.000540</td>\n",
       "      <td>0.000458</td>\n",
       "      <td>0.000464</td>\n",
       "    </tr>\n",
       "    <tr>\n",
       "      <th>1983</th>\n",
       "      <td>3</td>\n",
       "      <td>0.000387</td>\n",
       "      <td>0.000273</td>\n",
       "      <td>0.000296</td>\n",
       "    </tr>\n",
       "    <tr>\n",
       "      <th>1984</th>\n",
       "      <td>4</td>\n",
       "      <td>0.000281</td>\n",
       "      <td>0.000197</td>\n",
       "      <td>0.000214</td>\n",
       "    </tr>\n",
       "  </tbody>\n",
       "</table>\n",
       "</div>"
      ],
      "text/plain": [
       "      Age  q(x)_male  q(y)_female  q(u)_unisex\n",
       "Year                                          \n",
       "1980    0   0.012032     0.008998     0.009538\n",
       "1981    1   0.000741     0.000745     0.000713\n",
       "1982    2   0.000540     0.000458     0.000464\n",
       "1983    3   0.000387     0.000273     0.000296\n",
       "1984    4   0.000281     0.000197     0.000214"
      ]
     },
     "execution_count": 1259,
     "metadata": {},
     "output_type": "execute_result"
    }
   ],
   "source": [
    "file_path = \"C:\\\\Users\\\\Study\\\\Downloads\\\\AVOe 2005R English.xlsx\"\n",
    "sheet_name = 'Ex3 a'\n",
    "data = pd.read_excel(file_path, sheet_name=sheet_name, engine='openpyxl', header=3, index_col=7)\n",
    "\n",
    "data = data[['Age','q(x)','q(y)','q(u)']]\n",
    "data.columns = ['Age','q(x)_male','q(y)_female','q(u)_unisex']\n",
    "\n",
    "data['Age'] = data['Age'].fillna(-1).astype(int)  \n",
    "\n",
    "data.index = pd.to_numeric(data.index, errors='coerce').fillna(-1).astype(int)\n",
    "data.index.name = 'Year'\n",
    "\n",
    "data.head(5)"
   ]
  },
  {
   "cell_type": "code",
   "execution_count": 1261,
   "id": "4ec9c6ee-b81a-4706-a7cf-f8522112581a",
   "metadata": {},
   "outputs": [
    {
     "data": {
      "text/html": [
       "<div>\n",
       "<style scoped>\n",
       "    .dataframe tbody tr th:only-of-type {\n",
       "        vertical-align: middle;\n",
       "    }\n",
       "\n",
       "    .dataframe tbody tr th {\n",
       "        vertical-align: top;\n",
       "    }\n",
       "\n",
       "    .dataframe thead th {\n",
       "        text-align: right;\n",
       "    }\n",
       "</style>\n",
       "<table border=\"1\" class=\"dataframe\">\n",
       "  <thead>\n",
       "    <tr style=\"text-align: right;\">\n",
       "      <th></th>\n",
       "      <th>l_u unisex</th>\n",
       "      <th>l_x male</th>\n",
       "      <th>l_y female</th>\n",
       "    </tr>\n",
       "    <tr>\n",
       "      <th>Age</th>\n",
       "      <th></th>\n",
       "      <th></th>\n",
       "      <th></th>\n",
       "    </tr>\n",
       "  </thead>\n",
       "  <tbody>\n",
       "    <tr>\n",
       "      <th>0</th>\n",
       "      <td>100.000</td>\n",
       "      <td>100.000</td>\n",
       "      <td>100.000</td>\n",
       "    </tr>\n",
       "    <tr>\n",
       "      <th>1</th>\n",
       "      <td>99.414</td>\n",
       "      <td>99.261</td>\n",
       "      <td>99.447</td>\n",
       "    </tr>\n",
       "    <tr>\n",
       "      <th>2</th>\n",
       "      <td>99.371</td>\n",
       "      <td>99.216</td>\n",
       "      <td>99.402</td>\n",
       "    </tr>\n",
       "    <tr>\n",
       "      <th>3</th>\n",
       "      <td>99.343</td>\n",
       "      <td>99.183</td>\n",
       "      <td>99.374</td>\n",
       "    </tr>\n",
       "    <tr>\n",
       "      <th>4</th>\n",
       "      <td>99.325</td>\n",
       "      <td>99.160</td>\n",
       "      <td>99.357</td>\n",
       "    </tr>\n",
       "  </tbody>\n",
       "</table>\n",
       "</div>"
      ],
      "text/plain": [
       "     l_u unisex  l_x male  l_y female\n",
       "Age                                  \n",
       "0       100.000   100.000     100.000\n",
       "1        99.414    99.261      99.447\n",
       "2        99.371    99.216      99.402\n",
       "3        99.343    99.183      99.374\n",
       "4        99.325    99.160      99.357"
      ]
     },
     "execution_count": 1261,
     "metadata": {},
     "output_type": "execute_result"
    }
   ],
   "source": [
    "mt.head()\n"
   ]
  },
  {
   "cell_type": "code",
   "execution_count": 1263,
   "id": "db98b928-6b11-4f88-bbd8-cab7696e6b79",
   "metadata": {},
   "outputs": [
    {
     "data": {
      "text/plain": [
       "0.9817661744342359"
      ]
     },
     "execution_count": 1263,
     "metadata": {},
     "output_type": "execute_result"
    }
   ],
   "source": [
    "nPx = mt.iloc[60,0]/mt.iloc[25,0]\n",
    "nPx"
   ]
  },
  {
   "cell_type": "code",
   "execution_count": 1265,
   "id": "44b3d6cf-bc08-495f-96c4-8845784877d0",
   "metadata": {},
   "outputs": [],
   "source": [
    "def calculate_NSP_Endowment(SP, qu, r, nPx):\n",
    "    values = data.iloc[qu[0]:qu[0]+qu[1],3].values\n",
    "    denominators = [(1 + r)**(n + 1) for n in range(len(values))]\n",
    "    total= (sum(values/denominators)+nPx/(1+r)**(len(values)))*SP\n",
    "    return total"
   ]
  },
  {
   "cell_type": "code",
   "execution_count": 1267,
   "id": "10d1731a-c4fa-4993-a622-111fe2b4349d",
   "metadata": {},
   "outputs": [
    {
     "data": {
      "text/plain": [
       "71225.1332899853"
      ]
     },
     "execution_count": 1267,
     "metadata": {},
     "output_type": "execute_result"
    }
   ],
   "source": [
    "calculate_NSP_Endowment(SP = 100000, qu = (25,35), r= 1/100, nPx = 0.9817661744342359)"
   ]
  },
  {
   "cell_type": "markdown",
   "id": "2a416c79-a896-4979-93ea-aabb7cfd63fd",
   "metadata": {},
   "source": [
    "Using this code you can check result of each calculation step\n",
    "```Python\n",
    "def calculate_NSP_Endowment(SP, qu, r, nPx):\n",
    "    values = data.iloc[qu[0]:qu[0]+qu[1],3].values\n",
    "    denominators = [(1 + r)**(n + 1) for n in range(len(values))]\n",
    "    \n",
    "    results = []\n",
    "    for value, denom in zip(values, denominators):\n",
    "        division_result = value / denom \n",
    "        print(f\"value: {value}, denominator: {denom}, division result: {division_result}\")\n",
    "        results.append(division_result)\n",
    "    \n",
    "    nPx = nPx/(1+r)**len(values)\n",
    "    total = (sum(results) + nPx)*SP\n",
    "    print(f\"npx division result: {nPx}\")\n",
    "    return total\n",
    "    \n",
    "result = calculate_NSP_Endowment(SP = 100000, qu = (25,35), r= 1/100, nPx = 0.9817661744342359)\n",
    "print(\"Final calculated result:\", result)\n",
    "```"
   ]
  },
  {
   "cell_type": "markdown",
   "id": "2c99a2de-4786-422b-bbfa-1bd0e79ab3fb",
   "metadata": {},
   "source": [
    "## b. year of birth 1992\n"
   ]
  },
  {
   "cell_type": "code",
   "execution_count": 1296,
   "id": "c7e6c8d0-7559-4ef2-9e82-8bdd9c4a8085",
   "metadata": {},
   "outputs": [
    {
     "data": {
      "text/html": [
       "<div>\n",
       "<style scoped>\n",
       "    .dataframe tbody tr th:only-of-type {\n",
       "        vertical-align: middle;\n",
       "    }\n",
       "\n",
       "    .dataframe tbody tr th {\n",
       "        vertical-align: top;\n",
       "    }\n",
       "\n",
       "    .dataframe thead th {\n",
       "        text-align: right;\n",
       "    }\n",
       "</style>\n",
       "<table border=\"1\" class=\"dataframe\">\n",
       "  <thead>\n",
       "    <tr style=\"text-align: right;\">\n",
       "      <th></th>\n",
       "      <th>Age</th>\n",
       "      <th>q(x)_male</th>\n",
       "      <th>q(y)_female</th>\n",
       "      <th>q(u)_unisex</th>\n",
       "    </tr>\n",
       "    <tr>\n",
       "      <th>Year</th>\n",
       "      <th></th>\n",
       "      <th></th>\n",
       "      <th></th>\n",
       "      <th></th>\n",
       "    </tr>\n",
       "  </thead>\n",
       "  <tbody>\n",
       "    <tr>\n",
       "      <th>1992</th>\n",
       "      <td>0</td>\n",
       "      <td>0.006695</td>\n",
       "      <td>0.005007</td>\n",
       "      <td>0.005308</td>\n",
       "    </tr>\n",
       "    <tr>\n",
       "      <th>1993</th>\n",
       "      <td>1</td>\n",
       "      <td>0.000412</td>\n",
       "      <td>0.000414</td>\n",
       "      <td>0.000396</td>\n",
       "    </tr>\n",
       "    <tr>\n",
       "      <th>1994</th>\n",
       "      <td>2</td>\n",
       "      <td>0.000299</td>\n",
       "      <td>0.000254</td>\n",
       "      <td>0.000257</td>\n",
       "    </tr>\n",
       "    <tr>\n",
       "      <th>1995</th>\n",
       "      <td>3</td>\n",
       "      <td>0.000214</td>\n",
       "      <td>0.000151</td>\n",
       "      <td>0.000164</td>\n",
       "    </tr>\n",
       "    <tr>\n",
       "      <th>1996</th>\n",
       "      <td>4</td>\n",
       "      <td>0.000155</td>\n",
       "      <td>0.000109</td>\n",
       "      <td>0.000118</td>\n",
       "    </tr>\n",
       "  </tbody>\n",
       "</table>\n",
       "</div>"
      ],
      "text/plain": [
       "      Age  q(x)_male  q(y)_female  q(u)_unisex\n",
       "Year                                          \n",
       "1992    0   0.006695     0.005007     0.005308\n",
       "1993    1   0.000412     0.000414     0.000396\n",
       "1994    2   0.000299     0.000254     0.000257\n",
       "1995    3   0.000214     0.000151     0.000164\n",
       "1996    4   0.000155     0.000109     0.000118"
      ]
     },
     "execution_count": 1296,
     "metadata": {},
     "output_type": "execute_result"
    }
   ],
   "source": [
    "file_path = \"C:\\\\Users\\\\Study\\\\Downloads\\\\AVOe 2005R English.xlsx\"\n",
    "sheet_name = 'Ex3 b'\n",
    "data = pd.read_excel(file_path, sheet_name=sheet_name, engine='openpyxl', header=3, index_col=7)\n",
    "\n",
    "data = data[['Age','q(x)','q(y)','q(u)']]\n",
    "data.columns = ['Age','q(x)_male','q(y)_female','q(u)_unisex']\n",
    "\n",
    "data['Age'] = data['Age'].fillna(-1).astype(int)  \n",
    "\n",
    "data.index = pd.to_numeric(data.index, errors='coerce').fillna(-1).astype(int)\n",
    "data.index.name = 'Year'\n",
    "\n",
    "data.head(5)"
   ]
  },
  {
   "cell_type": "code",
   "execution_count": 1277,
   "id": "38457a40-4b21-4a31-a282-f9dbea78d5aa",
   "metadata": {},
   "outputs": [],
   "source": [
    "def calculate_NSP_Endowment(SP, qu, r, nPx):\n",
    "    values = data.iloc[qu[0]:qu[0]+qu[1],3].values\n",
    "    denominators = [(1 + r)**(n + 1) for n in range(len(values))]\n",
    "    total= (sum(values/denominators)+nPx/(1+r)**(len(values)))*SP\n",
    "    return total"
   ]
  },
  {
   "cell_type": "code",
   "execution_count": 1279,
   "id": "3eb0b6fb-d383-44c6-837a-488a5be1620f",
   "metadata": {},
   "outputs": [
    {
     "data": {
      "text/plain": [
       "70702.33743318239"
      ]
     },
     "execution_count": 1279,
     "metadata": {},
     "output_type": "execute_result"
    }
   ],
   "source": [
    "calculate_NSP_Endowment(SP = 100000, qu = (25,35), r= 1/100, nPx = 0.9817661744342359)"
   ]
  },
  {
   "cell_type": "markdown",
   "id": "84392cc7-41e1-4b7a-a2ba-22d973bc4026",
   "metadata": {},
   "source": [
    "Using this code you can check result of each calculation step\n",
    "```Python\n",
    "def calculate_NSP_Endowment(SP, qu, r, nPx):\n",
    "    values = data.iloc[qu[0]:qu[0]+qu[1],3].values\n",
    "    denominators = [(1 + r)**(n + 1) for n in range(len(values))]\n",
    "    \n",
    "    results = []\n",
    "    for value, denom in zip(values, denominators):\n",
    "        division_result = value / denom \n",
    "        print(f\"value: {value}, denominator: {denom}, division result: {division_result}\")\n",
    "        results.append(division_result)\n",
    "    \n",
    "    nPx = nPx/(1+r)**len(values)\n",
    "    total = (sum(results) + nPx)*SP\n",
    "    print(f\"npx division result: {nPx}\")\n",
    "    return total\n",
    "    \n",
    "result = calculate_NSP_Endowment(SP = 100000, qu = (25,35), r= 1/100, nPx = 0.9817661744342359)\n",
    "print(\"Final calculated result:\", result)\n",
    "```"
   ]
  },
  {
   "cell_type": "markdown",
   "id": "d6f46199-5a39-4672-abbe-f4738603879f",
   "metadata": {},
   "source": [
    "## c. year of birth 2001"
   ]
  },
  {
   "cell_type": "code",
   "execution_count": 1302,
   "id": "605fdc33-215a-4b61-82b9-3ff44540fafc",
   "metadata": {},
   "outputs": [
    {
     "data": {
      "text/html": [
       "<div>\n",
       "<style scoped>\n",
       "    .dataframe tbody tr th:only-of-type {\n",
       "        vertical-align: middle;\n",
       "    }\n",
       "\n",
       "    .dataframe tbody tr th {\n",
       "        vertical-align: top;\n",
       "    }\n",
       "\n",
       "    .dataframe thead th {\n",
       "        text-align: right;\n",
       "    }\n",
       "</style>\n",
       "<table border=\"1\" class=\"dataframe\">\n",
       "  <thead>\n",
       "    <tr style=\"text-align: right;\">\n",
       "      <th></th>\n",
       "      <th>Age</th>\n",
       "      <th>q(x)_male</th>\n",
       "      <th>q(y)_female</th>\n",
       "      <th>q(u)_unisex</th>\n",
       "    </tr>\n",
       "    <tr>\n",
       "      <th>Year</th>\n",
       "      <th></th>\n",
       "      <th></th>\n",
       "      <th></th>\n",
       "      <th></th>\n",
       "    </tr>\n",
       "  </thead>\n",
       "  <tbody>\n",
       "    <tr>\n",
       "      <th>2001</th>\n",
       "      <td>0</td>\n",
       "      <td>0.004274</td>\n",
       "      <td>0.003197</td>\n",
       "      <td>0.003388</td>\n",
       "    </tr>\n",
       "    <tr>\n",
       "      <th>2002</th>\n",
       "      <td>1</td>\n",
       "      <td>0.000263</td>\n",
       "      <td>0.000264</td>\n",
       "      <td>0.000253</td>\n",
       "    </tr>\n",
       "    <tr>\n",
       "      <th>2003</th>\n",
       "      <td>2</td>\n",
       "      <td>0.000191</td>\n",
       "      <td>0.000162</td>\n",
       "      <td>0.000164</td>\n",
       "    </tr>\n",
       "    <tr>\n",
       "      <th>2004</th>\n",
       "      <td>3</td>\n",
       "      <td>0.000137</td>\n",
       "      <td>0.000096</td>\n",
       "      <td>0.000105</td>\n",
       "    </tr>\n",
       "    <tr>\n",
       "      <th>2005</th>\n",
       "      <td>4</td>\n",
       "      <td>0.000099</td>\n",
       "      <td>0.000069</td>\n",
       "      <td>0.000075</td>\n",
       "    </tr>\n",
       "  </tbody>\n",
       "</table>\n",
       "</div>"
      ],
      "text/plain": [
       "      Age  q(x)_male  q(y)_female  q(u)_unisex\n",
       "Year                                          \n",
       "2001    0   0.004274     0.003197     0.003388\n",
       "2002    1   0.000263     0.000264     0.000253\n",
       "2003    2   0.000191     0.000162     0.000164\n",
       "2004    3   0.000137     0.000096     0.000105\n",
       "2005    4   0.000099     0.000069     0.000075"
      ]
     },
     "execution_count": 1302,
     "metadata": {},
     "output_type": "execute_result"
    }
   ],
   "source": [
    "file_path = \"C:\\\\Users\\\\Study\\\\Downloads\\\\AVOe 2005R English.xlsx\"\n",
    "sheet_name = 'Ex3 c'\n",
    "data = pd.read_excel(file_path, sheet_name=sheet_name, engine='openpyxl', header=3, index_col=7)\n",
    "\n",
    "data = data[['Age','q(x)','q(y)','q(u)']]\n",
    "data.columns = ['Age','q(x)_male','q(y)_female','q(u)_unisex']\n",
    "\n",
    "data['Age'] = data['Age'].fillna(-1).astype(int)  \n",
    "\n",
    "data.index = pd.to_numeric(data.index, errors='coerce').fillna(-1).astype(int)\n",
    "data.index.name = 'Year'\n",
    "\n",
    "data.head(5)"
   ]
  },
  {
   "cell_type": "code",
   "execution_count": 1304,
   "id": "b0f485cf-88a3-4f0c-8d58-a37fb0ec8cbb",
   "metadata": {},
   "outputs": [],
   "source": [
    "def calculate_NSP_Endowment(SP, qu, r, nPx):\n",
    "    values = data.iloc[qu[0]:qu[0]+qu[1],3].values\n",
    "    denominators = [(1 + r)**(n + 1) for n in range(len(values))]\n",
    "    total= (sum(values/denominators)+nPx/(1+r)**(len(values)))*SP\n",
    "    return total"
   ]
  },
  {
   "cell_type": "code",
   "execution_count": 1306,
   "id": "5d810b6a-897e-4f86-a9a9-336564d2e0f4",
   "metadata": {},
   "outputs": [
    {
     "data": {
      "text/plain": [
       "70422.80353421267"
      ]
     },
     "execution_count": 1306,
     "metadata": {},
     "output_type": "execute_result"
    }
   ],
   "source": [
    "calculate_NSP_Endowment(SP = 100000, qu = (25,35), r= 1/100, nPx = 0.9817661744342359)"
   ]
  },
  {
   "cell_type": "markdown",
   "id": "797ed481-663d-41f8-9cf1-0be4f8812224",
   "metadata": {},
   "source": [
    "Using this code you can check result of each calculation step\n",
    "```Python\n",
    "def calculate_NSP_Endowment(SP, qu, r, nPx):\n",
    "    values = data.iloc[qu[0]:qu[0]+qu[1],3].values\n",
    "    denominators = [(1 + r)**(n + 1) for n in range(len(values))]\n",
    "    \n",
    "    results = []\n",
    "    for value, denom in zip(values, denominators):\n",
    "        division_result = value / denom \n",
    "        print(f\"value: {value}, denominator: {denom}, division result: {division_result}\")\n",
    "        results.append(division_result)\n",
    "    \n",
    "    nPx = nPx/(1+r)**len(values)\n",
    "    total = (sum(results) + nPx)*SP\n",
    "    print(f\"npx division result: {nPx}\")\n",
    "    return total\n",
    "    \n",
    "result = calculate_NSP_Endowment(SP = 100000, qu = (25,35), r= 1/100, nPx = 0.9817661744342359)\n",
    "print(\"Final calculated result:\", result)\n",
    "```"
   ]
  }
 ],
 "metadata": {
  "kernelspec": {
   "display_name": "Python 3 (ipykernel)",
   "language": "python",
   "name": "python3"
  },
  "language_info": {
   "codemirror_mode": {
    "name": "ipython",
    "version": 3
   },
   "file_extension": ".py",
   "mimetype": "text/x-python",
   "name": "python",
   "nbconvert_exporter": "python",
   "pygments_lexer": "ipython3",
   "version": "3.12.4"
  }
 },
 "nbformat": 4,
 "nbformat_minor": 5
}
